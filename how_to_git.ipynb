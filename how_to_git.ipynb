{
 "cells": [
  {
   "cell_type": "markdown",
   "metadata": {},
   "source": [
    "# How to use git:\n",
    "### Cloning a repository\n",
    "Once your environment is activated, use `git clone https://github.com/Parker03/intensity_slice` to clone the repository onto your pc, in your current directory. cd into the folder where the repository is located.\n",
    "### Identify yourself\n",
    "Git won't allow you to upload if it doesn't know your identity. Use the commands `git config --global user.name <username>` and `git config --global user.email <email>` to register your identity to the git program.\n",
    "### Create a new branch to edit\n",
    "`git checkout <branch>` is the command used to switch between branches. To create a new branch, use `git checkout -b <new branch name>`. The `-b` tells the computer to create a __new branch__.\n",
    "### Staging files\n",
    "When you want to (stage) mark a file to be committed in the next `commit`, use `git add <file>`.\n",
    "### Commit changes\n",
    "When you're ready to commit the changes, use `git commit -m \"description of change here\"` \n",
    "### Push changes to github\n",
    "Use `git push origin <branch name>` to push the changes you made in `<branch name>` to the repository you originally cloned."
   ]
  },
  {
   "cell_type": "code",
   "execution_count": null,
   "metadata": {},
   "outputs": [],
   "source": []
  }
 ],
 "metadata": {
  "kernelspec": {
   "display_name": "Python 2",
   "language": "python",
   "name": "python2"
  },
  "language_info": {
   "codemirror_mode": {
    "name": "ipython",
    "version": 2
   },
   "file_extension": ".py",
   "mimetype": "text/x-python",
   "name": "python",
   "nbconvert_exporter": "python",
   "pygments_lexer": "ipython2",
   "version": "2.7.14"
  }
 },
 "nbformat": 4,
 "nbformat_minor": 2
}
